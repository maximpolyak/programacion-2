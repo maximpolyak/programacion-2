{
 "cells": [
  {
   "cell_type": "markdown",
   "id": "28218f09",
   "metadata": {},
   "source": [
    "# Ejercicio Grupo E8FP\n",
    "\n",
    "**Integrantes:**\n",
    "- Maxim Polyak\n",
    "- Jesús Gómez"
   ]
  },
  {
   "cell_type": "markdown",
   "id": "e71bcfd0",
   "metadata": {},
   "source": [
    "## Objetivo\n",
    "El objetivo de esta actividad es proporcionar experiencia en el manejo de datos y clasificación de gestos de la mano utilizando diferentes modelos de aprendizaje."
   ]
  },
  {
   "cell_type": "markdown",
   "id": "d098a107",
   "metadata": {},
   "source": [
    "## Importación de librerías"
   ]
  },
  {
   "cell_type": "code",
   "execution_count": 9,
   "id": "6293d773",
   "metadata": {},
   "outputs": [],
   "source": [
    "import glob\n",
    "import numpy as np\n",
    "import pandas as pd\n",
    "from sklearn.model_selection import train_test_split\n",
    "from sklearn.ensemble import RandomForestClassifier\n",
    "from sklearn.discriminant_analysis import LinearDiscriminantAnalysis, QuadraticDiscriminantAnalysis\n",
    "from sklearn.metrics import classification_report, accuracy_score, confusion_matrix\n"
   ]
  },
  {
   "cell_type": "markdown",
   "id": "4d8bb4a9",
   "metadata": {},
   "source": [
    "## Carga y preparación de datos\n",
    "Se cargan los archivos CSV sin encabezados, se concatenan y se separan características y etiqueta."
   ]
  },
  {
   "cell_type": "code",
   "execution_count": 10,
   "id": "62f4efac",
   "metadata": {},
   "outputs": [
    {
     "name": "stdout",
     "output_type": "stream",
     "text": [
      "Datos cargados: (11678, 65)\n"
     ]
    }
   ],
   "source": [
    "file_paths = glob.glob('data/HandGesture*.csv')\n",
    "dfs = [pd.read_csv(fp, header=None) for fp in file_paths]\n",
    "\n",
    "df = pd.concat(dfs, ignore_index=True)\n",
    "X = df.iloc[:, :-1]\n",
    "y = df.iloc[:, -1]\n",
    "print('Datos cargados:', df.shape)"
   ]
  },
  {
   "cell_type": "markdown",
   "id": "0f8b256f",
   "metadata": {},
   "source": [
    "## División del conjunto de datos\n",
    "Se divide en entrenamiento (80%) y prueba (20%)."
   ]
  },
  {
   "cell_type": "code",
   "execution_count": 11,
   "id": "8e44a089",
   "metadata": {},
   "outputs": [
    {
     "name": "stdout",
     "output_type": "stream",
     "text": [
      "Tamaño entrenamiento: (9342, 64) Tamaño prueba: (2336, 64)\n"
     ]
    }
   ],
   "source": [
    "X_train, X_test, y_train, y_test = train_test_split(X, y, test_size=0.2, random_state=42)\n",
    "print('Tamaño entrenamiento:', X_train.shape, 'Tamaño prueba:', X_test.shape)"
   ]
  },
  {
   "cell_type": "markdown",
   "id": "2130bfbb",
   "metadata": {},
   "source": [
    "## Modelo 1: Bosque Aleatorio"
   ]
  },
  {
   "cell_type": "code",
   "execution_count": 12,
   "id": "fec7ba1b",
   "metadata": {},
   "outputs": [
    {
     "name": "stdout",
     "output_type": "stream",
     "text": [
      "Accuracy RF: 0.9238013698630136\n",
      "              precision    recall  f1-score   support\n",
      "\n",
      "           0       0.95      0.97      0.96       557\n",
      "           1       0.96      0.92      0.94       575\n",
      "           2       0.92      0.92      0.92       611\n",
      "           3       0.88      0.89      0.89       593\n",
      "\n",
      "    accuracy                           0.92      2336\n",
      "   macro avg       0.92      0.92      0.92      2336\n",
      "weighted avg       0.92      0.92      0.92      2336\n",
      "\n"
     ]
    }
   ],
   "source": [
    "# Entrenamiento\n",
    "erf = RandomForestClassifier(random_state=42)\n",
    "erf.fit(X_train, y_train)\n",
    "# Evaluación\n",
    "y_pred_rf = erf.predict(X_test)\n",
    "print('Accuracy RF:', accuracy_score(y_test, y_pred_rf))\n",
    "print(classification_report(y_test, y_pred_rf))"
   ]
  },
  {
   "cell_type": "markdown",
   "id": "79139c50",
   "metadata": {},
   "source": [
    "## Modelo 2: Análisis de Discriminación Lineal"
   ]
  },
  {
   "cell_type": "code",
   "execution_count": 13,
   "id": "07fa3db6",
   "metadata": {},
   "outputs": [
    {
     "name": "stdout",
     "output_type": "stream",
     "text": [
      "Accuracy LDA: 0.3407534246575342\n",
      "              precision    recall  f1-score   support\n",
      "\n",
      "           0       0.48      0.39      0.43       557\n",
      "           1       0.32      0.35      0.33       575\n",
      "           2       0.28      0.29      0.28       611\n",
      "           3       0.32      0.34      0.33       593\n",
      "\n",
      "    accuracy                           0.34      2336\n",
      "   macro avg       0.35      0.34      0.34      2336\n",
      "weighted avg       0.35      0.34      0.34      2336\n",
      "\n"
     ]
    }
   ],
   "source": [
    "# Entrenamiento\n",
    "lda = LinearDiscriminantAnalysis()\n",
    "lda.fit(X_train, y_train)\n",
    "# Evaluación\n",
    "y_pred_lda = lda.predict(X_test)\n",
    "print('Accuracy LDA:', accuracy_score(y_test, y_pred_lda))\n",
    "print(classification_report(y_test, y_pred_lda))"
   ]
  },
  {
   "cell_type": "markdown",
   "id": "b4a6783d",
   "metadata": {},
   "source": [
    "## Modelo 3: Análisis de Discriminación Radial (QDA)"
   ]
  },
  {
   "cell_type": "code",
   "execution_count": 14,
   "id": "f9172dbb",
   "metadata": {},
   "outputs": [
    {
     "name": "stdout",
     "output_type": "stream",
     "text": [
      "Accuracy QDA: 0.9370719178082192\n",
      "              precision    recall  f1-score   support\n",
      "\n",
      "           0       0.94      0.95      0.94       557\n",
      "           1       0.94      0.98      0.96       575\n",
      "           2       0.96      0.94      0.95       611\n",
      "           3       0.91      0.88      0.89       593\n",
      "\n",
      "    accuracy                           0.94      2336\n",
      "   macro avg       0.94      0.94      0.94      2336\n",
      "weighted avg       0.94      0.94      0.94      2336\n",
      "\n"
     ]
    }
   ],
   "source": [
    "# Asumimos 'discriminación radial' como Quadratic Discriminant Analysis\n",
    "qda = QuadraticDiscriminantAnalysis()\n",
    "qda.fit(X_train, y_train)\n",
    "y_pred_qda = qda.predict(X_test)\n",
    "print('Accuracy QDA:', accuracy_score(y_test, y_pred_qda))\n",
    "print(classification_report(y_test, y_pred_qda))"
   ]
  },
  {
   "cell_type": "markdown",
   "id": "cbd368e7",
   "metadata": {},
   "source": [
    "## Conclusiones\n",
    "En función de las métricas obtenidas, discutimos qué modelo se adapta mejor a los datos de EMG."
   ]
  }
 ],
 "metadata": {
  "kernelspec": {
   "display_name": "Python 3",
   "language": "python",
   "name": "python3"
  },
  "language_info": {
   "codemirror_mode": {
    "name": "ipython",
    "version": 3
   },
   "file_extension": ".py",
   "mimetype": "text/x-python",
   "name": "python",
   "nbconvert_exporter": "python",
   "pygments_lexer": "ipython3",
   "version": "3.9.13"
  }
 },
 "nbformat": 4,
 "nbformat_minor": 5
}
