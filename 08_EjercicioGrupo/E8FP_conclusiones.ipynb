{
 "cells": [
  {
   "cell_type": "markdown",
   "id": "792cae72",
   "metadata": {},
   "source": [
    "# Conclusiones\n",
    "\n",
    "1. **Estadísticas iniciales y EDA**  \n",
    "- Los valores EMG están centrados alrededor de cero, con rangos típicos entre –100 uV y +100 uV.  \n",
    "- Histograma del canal 0 muestra distribución leptocúrtica: gran concentración en [–5, +5] uV y pocos picos extremos.  \n",
    "- Distribución de clases muy equilibrada (≈580 muestras/gesto), evitando sesgos en el entrenamiento.  \n",
    "- PCA 2D revela separación clara entre gestos 0 y 1; gestos 2 y 3 presentan superposición moderada.\n",
    "\n",
    "2. **Rendimiento de clasificadores**  \n",
    "| Modelo           | Accuracy |  Precision medio  | Recall medio  | F1-score medio |  \n",
    "|------------------|----------|-------------------|---------------|----------------|  \n",
    "| **Random Forest** | 0.9225   | ≈0.922            | ≈0.922        | ≈0.922         |  \n",
    "| **LDA**          | 0.3390   | ≈0.350            | ≈0.340        | ≈0.340         |  \n",
    "| **QDA**          | 0.9358   | ≈0.935            | ≈0.935        | ≈0.935         |\n",
    "\n",
    "3. **Análisis por clase**  \n",
    "- *Gesto 0*: QDA recall ≈0.96, RF recall ≈0.97; gesto muy diferenciable.  \n",
    "- *Gesto 3*: QDA recall ≈0.89, RF recall ≈0.87; es el más confuso, se solapa con la clase 2.\n",
    "\n",
    "4. **Matriz de confusión (QDA)**  \n",
    "- Alta concentración en la diagonal principal (>90 %) para gestos 0, 1 y 2.  \n",
    "- Un 10–11 % de los gestos 3 se confunden con la clase 2.\n",
    "\n",
    "5. **Recomendaciones**  \n",
    "- Implementar **QDA** como clasificador principal en prototipos de baja latencia.  \n",
    "- Evaluar **Random Forest** en producción por su robustez.  \n",
    "- Mejorar el gesto 3: más muestras o features tiempo–frecuencia EMG.  \n",
    "- Explorar modelos no lineales adicionales y técnicas avanzadas de creación de features."
   ]
  }
 ],
 "metadata": {},
 "nbformat": 4,
 "nbformat_minor": 5
}
